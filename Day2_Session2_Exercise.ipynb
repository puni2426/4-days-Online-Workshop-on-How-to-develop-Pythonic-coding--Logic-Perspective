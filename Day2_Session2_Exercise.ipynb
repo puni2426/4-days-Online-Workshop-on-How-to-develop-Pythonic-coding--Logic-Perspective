{
  "nbformat": 4,
  "nbformat_minor": 0,
  "metadata": {
    "colab": {
      "name": "Day2 session 2 Exercise.ipynb",
      "provenance": [],
      "collapsed_sections": [],
      "include_colab_link": true
    },
    "kernelspec": {
      "name": "python3",
      "display_name": "Python 3"
    }
  },
  "cells": [
    {
      "cell_type": "markdown",
      "metadata": {
        "id": "view-in-github",
        "colab_type": "text"
      },
      "source": [
        "<a href=\"https://colab.research.google.com/github/puni2426/4-days-Workshop-on-Python/blob/master/Day2_Session2_Exercise.ipynb\" target=\"_parent\"><img src=\"https://colab.research.google.com/assets/colab-badge.svg\" alt=\"Open In Colab\"/></a>"
      ]
    },
    {
      "cell_type": "markdown",
      "metadata": {
        "id": "519v3DMWiKH2",
        "colab_type": "text"
      },
      "source": [
        " Add rollno and marks {name:mark} for n number of students through keyboard in a dictionary and print the marks in descending order with respective name."
      ]
    },
    {
      "cell_type": "code",
      "metadata": {
        "id": "KwNPHN6HiMC5",
        "colab_type": "code",
        "colab": {
          "base_uri": "https://localhost:8080/",
          "height": 207
        },
        "outputId": "a828ea7c-37b2-4a05-bb56-aedb73955438"
      },
      "source": [
        " \n",
        "import operator\n",
        "d={}\n",
        "for i in range(int(input(\"Enter The Number Of Students: \"))):\n",
        "  n=input(f\"Enter The Name Of Student-{i+1}: \")\n",
        "  d[n]=int(input(f\"Enter The Marks Of Student-{i+1}: \"))\n",
        "print(dict(sorted(d.items(), key=operator.itemgetter(1), reverse=True)))"
      ],
      "execution_count": null,
      "outputs": [
        {
          "output_type": "stream",
          "text": [
            "Enter The Number Of Students: 4\n",
            "Enter The Name Of Student-1: Surya\n",
            "Enter The Marks Of Student-1: 98\n",
            "Enter The Name Of Student-2: Prakash\n",
            "Enter The Marks Of Student-2: 88\n",
            "Enter The Name Of Student-3: Punith\n",
            "Enter The Marks Of Student-3: 99\n",
            "Enter The Name Of Student-4: Raja\n",
            "Enter The Marks Of Student-4: 46\n",
            "{'Punith': 99, 'Surya': 98, 'Prakash': 88, 'Raja': 46}\n"
          ],
          "name": "stdout"
        }
      ]
    },
    {
      "cell_type": "markdown",
      "metadata": {
        "id": "yRf7ORo6iZJB",
        "colab_type": "text"
      },
      "source": [
        " \n",
        "Add  name and salary {name:salary} for n number of employees through keyboard in a dictionary and print them in name alphabetical order with salary"
      ]
    },
    {
      "cell_type": "code",
      "metadata": {
        "id": "heLCV4UriwZ8",
        "colab_type": "code",
        "colab": {
          "base_uri": "https://localhost:8080/",
          "height": 207
        },
        "outputId": "421ce284-1f1f-4c85-a2e9-0c9604dbccf8"
      },
      "source": [
        " \n",
        "import operator\n",
        "d={}\n",
        "for i in range(int(input(\"Enter The Number Of Employees: \"))):\n",
        "  n=input(f\"Enter The Name Of Employee-{i+1}: \")\n",
        "  d[n]=int(input(f\"Enter The Salary Of Employee-{i+1}: \"))\n",
        "print(dict(sorted(d.items(), key=operator.itemgetter(0))))"
      ],
      "execution_count": null,
      "outputs": [
        {
          "output_type": "stream",
          "text": [
            "Enter The Number Of Employees: 4\n",
            "Enter The Name Of Employee-1: Surya\n",
            "Enter The Salary Of Employee-1: 98000\n",
            "Enter The Name Of Employee-2: Prakash\n",
            "Enter The Salary Of Employee-2: 66000\n",
            "Enter The Name Of Employee-3: Punith\n",
            "Enter The Salary Of Employee-3: 9999\n",
            "Enter The Name Of Employee-4: Raja\n",
            "Enter The Salary Of Employee-4: 54000\n",
            "{'Prakash': 66000, 'Punith': 9999, 'Raja': 54000, 'Surya': 98000}\n"
          ],
          "name": "stdout"
        }
      ]
    },
    {
      "cell_type": "markdown",
      "metadata": {
        "id": "Dn-0b-5KjYK4",
        "colab_type": "text"
      },
      "source": [
        " Add  name and salary {name:salary} for n number of employees through keyboard in a dictionary and print them in salary  ascending order and  sum, max, min and average of the salaries"
      ]
    },
    {
      "cell_type": "code",
      "metadata": {
        "id": "AJtSw9IMjZbY",
        "colab_type": "code",
        "colab": {
          "base_uri": "https://localhost:8080/",
          "height": 275
        },
        "outputId": "8a530b51-7e0e-45d0-ce12-da77dd2e1d8a"
      },
      "source": [
        " \n",
        "import operator\n",
        "d={}\n",
        "for i in range(int(input(\"Enter The Number Of Employees: \"))):\n",
        "  n=input(f\"Enter The Name Of Employee {i+1}: \")\n",
        "  d[n]=int(input(f\"Enter The Salary Of Employee {i+1}: \"))\n",
        "print(dict(sorted(d.items(), key=operator.itemgetter(1))))\n",
        "print(f\"Sum: {sum(d.values())}\\nMax: {max(d.values())}\\nMin: {min(d.values())}\\nAverage: {sum(d.values())/len(d)}\")"
      ],
      "execution_count": null,
      "outputs": [
        {
          "output_type": "stream",
          "text": [
            "Enter The Number Of Employees: 4\n",
            "Enter The Name Of Employee 1: Surya\n",
            "Enter The Salary Of Employee 1: 98000\n",
            "Enter The Name Of Employee 2: Prakash\n",
            "Enter The Salary Of Employee 2: 77777\n",
            "Enter The Name Of Employee 3: Punith\n",
            "Enter The Salary Of Employee 3: 199999\n",
            "Enter The Name Of Employee 4: Harin\n",
            "Enter The Salary Of Employee 4: 68924\n",
            "{'Harin': 68924, 'Prakash': 77777, 'Surya': 98000, 'Punith': 199999}\n",
            "Sum: 444700\n",
            "Max: 199999\n",
            "Min: 68924\n",
            "Average: 111175.0\n"
          ],
          "name": "stdout"
        }
      ]
    },
    {
      "cell_type": "markdown",
      "metadata": {
        "id": "wFx0_fIHkORQ",
        "colab_type": "text"
      },
      "source": [
        " \n",
        "Add name and salary {name:salary} for n number of employees through keyboard in a dictionary and print only the employees whose salary is greater than 2000 but less than 4000"
      ]
    },
    {
      "cell_type": "code",
      "metadata": {
        "id": "WqnxIs-zkUm5",
        "colab_type": "code",
        "colab": {
          "base_uri": "https://localhost:8080/",
          "height": 173
        },
        "outputId": "821cd09e-ccce-4aed-a365-16e63bb02eee"
      },
      "source": [
        " \n",
        "d={}\n",
        "for i in range(int(input(\"Enter The Number Of Employees : \"))):\n",
        "  n=input(f\"Enter The Name Of Employee {i+1}: \")\n",
        "  d[n]=int(input(f\"Enter The Salary Of Employee {i+1}: \"))\n",
        "print(dict([(k,v) for k,v in d.items() if 2000<v<4000]))"
      ],
      "execution_count": null,
      "outputs": [
        {
          "output_type": "stream",
          "text": [
            "Enter The Number Of Employees : 3\n",
            "Enter The Name Of Employee 1: Harin\n",
            "Enter The Salary Of Employee 1: 87368\n",
            "Enter The Name Of Employee 2: Sidda\n",
            "Enter The Salary Of Employee 2: 3000\n",
            "Enter The Name Of Employee 3: Ramesh\n",
            "Enter The Salary Of Employee 3: 2682\n",
            "{'Sidda': 3000, 'Ramesh': 2682}\n"
          ],
          "name": "stdout"
        }
      ]
    },
    {
      "cell_type": "markdown",
      "metadata": {
        "id": "_lL7ro3clAGi",
        "colab_type": "text"
      },
      "source": [
        " Python program to convert a 3 digit number  into words"
      ]
    },
    {
      "cell_type": "code",
      "metadata": {
        "id": "BNFhjmltlG5N",
        "colab_type": "code",
        "colab": {
          "base_uri": "https://localhost:8080/",
          "height": 71
        },
        "outputId": "f20577ad-2458-4705-eb3d-8cb6553a989b"
      },
      "source": [
        " \n",
        "d={0:'',1:'one',2:'two',3:'three',4:'four',5:'five',6:'six',7:'seven',8:'eight',9:'nine',\\\n",
        "   10:'ten',11:'eleven',12:'twelve',13:'thirteen',14:'fourteen',15:'fifteen',16:'sixteen',\\\n",
        "   17:'seventeen',18:'eightteen',19:'nineteen',20:'twenty',30:'thirty',40:'fourty',50:'fifty',\\\n",
        "   60:'sixty',70:'seventy',80:'eighty',90:'ninty',100:'One hundred',200:'Two hundred',300:'three hundred',400:'four hundred',500:'five hundred',600:'six hundred',700:'seven hundred',800:'eight hundred',900:'nine hundred'}\n",
        "num=int(input(\"Enter the integer between 100 to 999:\"))\n",
        "print(f\"{d[num//100*100]} {d[((num//10)%10)*10]} {d[num%10]}\")"
      ],
      "execution_count": null,
      "outputs": [
        {
          "output_type": "stream",
          "text": [
            "Enter the integer between 100 to 999:456\n",
            "four hundred fifty six\n"
          ],
          "name": "stdout"
        }
      ]
    },
    {
      "cell_type": "markdown",
      "metadata": {
        "id": "NU8lLkY3lvLO",
        "colab_type": "text"
      },
      "source": [
        "FILES EXAMPLES"
      ]
    },
    {
      "cell_type": "markdown",
      "metadata": {
        "id": "2CZJlJLCnKZl",
        "colab_type": "text"
      },
      "source": [
        " Python Program to count the total number of charaters (except blank space) in a text file."
      ]
    },
    {
      "cell_type": "code",
      "metadata": {
        "id": "XzMZ3hAdn75e",
        "colab_type": "code",
        "colab": {
          "base_uri": "https://localhost:8080/",
          "height": 34
        },
        "outputId": "54dcebb9-cbc8-44b3-c028-2d4c8beec6ae"
      },
      "source": [
        "f=open(\"/sps.txt\",\"r\")\n",
        "t=f.read()\n",
        "c=0\n",
        "for i in t:\n",
        "  if(i!=\" \" and i!='\\n'):\n",
        "    c+=1\n",
        "print(c)\n"
      ],
      "execution_count": null,
      "outputs": [
        {
          "output_type": "stream",
          "text": [
            "16\n"
          ],
          "name": "stdout"
        }
      ]
    },
    {
      "cell_type": "markdown",
      "metadata": {
        "id": "jlgc8V7bnSDr",
        "colab_type": "text"
      },
      "source": [
        " Python Program to print all the numbers present in a text file with its total number of occurrence."
      ]
    },
    {
      "cell_type": "code",
      "metadata": {
        "id": "93yPKnCun2-S",
        "colab_type": "code",
        "colab": {
          "base_uri": "https://localhost:8080/",
          "height": 102
        },
        "outputId": "675fa733-c98f-4923-e6a2-418851f4f93f"
      },
      "source": [
        "file_txt = open(\"/sps1.txt\",\"r\")\t\t\n",
        "text = file_txt.read()\t\n",
        "w = []\t\n",
        "d = dict() \n",
        "for line in text: \n",
        "    line = line.strip() \t\n",
        "    if(line.isdigit()):\n",
        "           w.append(line)\n",
        "for j in w:\n",
        "      if j in d:\n",
        "        d[j] = d[j] + 1\n",
        "      else: \n",
        "            d[j] = 1 \n",
        "for key in list(d.keys()): \n",
        "    print(key, \":\", d[key])"
      ],
      "execution_count": null,
      "outputs": [
        {
          "output_type": "stream",
          "text": [
            "1 : 2\n",
            "2 : 2\n",
            "3 : 2\n",
            "4 : 2\n",
            "5 : 2\n"
          ],
          "name": "stdout"
        }
      ]
    },
    {
      "cell_type": "markdown",
      "metadata": {
        "id": "8ix4thKSnZLD",
        "colab_type": "text"
      },
      "source": [
        " Python Program to append the contents of one file to another file by getting the both file names through keyboard"
      ]
    },
    {
      "cell_type": "code",
      "metadata": {
        "id": "NlyMAZq2n1XS",
        "colab_type": "code",
        "colab": {
          "base_uri": "https://localhost:8080/",
          "height": 51
        },
        "outputId": "b277b6b4-d40f-4a5c-fe15-53ea85348dd5"
      },
      "source": [
        "name1 = input(\"Enter file to be read from: \")\n",
        "name2 = input(\"Enter file to be appended to: \")\n",
        "fin = open(name1, \"r\")\n",
        "data2 = fin.read()\n",
        "fin.close()\n",
        "fout = open(name2, \"a\")\n",
        "fout.write(data2)\n",
        "fout.close()"
      ],
      "execution_count": null,
      "outputs": [
        {
          "output_type": "stream",
          "text": [
            "Enter file to be read from: /sps.txt\n",
            "Enter file to be appended to: /sps1.txt\n"
          ],
          "name": "stdout"
        }
      ]
    },
    {
      "cell_type": "markdown",
      "metadata": {
        "id": "LOw1vy8MneBl",
        "colab_type": "text"
      },
      "source": [
        " Python Program to count the number of blank spaces in a text file."
      ]
    },
    {
      "cell_type": "code",
      "metadata": {
        "id": "XX9Mf320nzCn",
        "colab_type": "code",
        "colab": {
          "base_uri": "https://localhost:8080/",
          "height": 34
        },
        "outputId": "ab50c941-4cdd-4236-aada-1ca872a01bc6"
      },
      "source": [
        "file_txt = open(\"/sps.txt\",\"r\")\t\t\n",
        "text = file_txt.read()\t\t\t\n",
        "charc = 0\t\n",
        "for i in text:\t\t\t\t\n",
        "\tif(i == \" \"):\n",
        "\t\t charc += 1\n",
        " \n",
        "print (\"total num of spaces: \",charc);"
      ],
      "execution_count": null,
      "outputs": [
        {
          "output_type": "stream",
          "text": [
            "total num of spaces:  1\n"
          ],
          "name": "stdout"
        }
      ]
    },
    {
      "cell_type": "markdown",
      "metadata": {
        "id": "dF9B5DhVni8R",
        "colab_type": "text"
      },
      "source": [
        " \n",
        "Python Program to read a file and capitalize the first letter of every word in the file and copy the every word capitalized content  into another file and read it ."
      ]
    },
    {
      "cell_type": "code",
      "metadata": {
        "id": "bfXVwEernxk3",
        "colab_type": "code",
        "colab": {
          "base_uri": "https://localhost:8080/",
          "height": 68
        },
        "outputId": "ef10bbf3-88dc-45d4-cbac-afb99ca2130f"
      },
      "source": [
        "with open('/sps.txt', 'r') as f:\n",
        "  with open(\"sps2.txt\", \"w\") as f1:\n",
        "    for line in f:\n",
        "        l=line.title()\n",
        "        f1.write(l)\n",
        "file2=open(\"sps2.txt\",'r')\n",
        "line=file2.readline()\n",
        "while(line!=\"\"):\n",
        "    print(line)\n",
        "    line=file2.readline()\n",
        "file2.close()"
      ],
      "execution_count": null,
      "outputs": [
        {
          "output_type": "stream",
          "text": [
            "Surya Praksh\n",
            "\n",
            "Mijar\n"
          ],
          "name": "stdout"
        }
      ]
    }
  ]
}