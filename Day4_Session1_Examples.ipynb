{
  "nbformat": 4,
  "nbformat_minor": 0,
  "metadata": {
    "colab": {
      "name": "Day4 Session1 Examples.ipynb",
      "provenance": [],
      "collapsed_sections": [],
      "include_colab_link": true
    },
    "kernelspec": {
      "name": "python3",
      "display_name": "Python 3"
    }
  },
  "cells": [
    {
      "cell_type": "markdown",
      "metadata": {
        "id": "view-in-github",
        "colab_type": "text"
      },
      "source": [
        "<a href=\"https://colab.research.google.com/github/puni2426/4-days-Workshop-on-Python/blob/master/Day4_Session1_Examples.ipynb\" target=\"_parent\"><img src=\"https://colab.research.google.com/assets/colab-badge.svg\" alt=\"Open In Colab\"/></a>"
      ]
    },
    {
      "cell_type": "markdown",
      "metadata": {
        "id": "iefiWMW8ZO5k",
        "colab_type": "text"
      },
      "source": [
        "#Writing Pythonic code\n",
        "The following code is harmful"
      ]
    },
    {
      "cell_type": "code",
      "metadata": {
        "id": "DcStHqwLZUga",
        "colab_type": "code",
        "colab": {
          "base_uri": "https://localhost:8080/",
          "height": 35
        },
        "outputId": "66131f77-b41b-4ae4-9749-643877877532"
      },
      "source": [
        "result_list = ['True', 'False', 'File not found']\n",
        "result_string = ''\n",
        "for result in result_list:\n",
        "  result_string += result\n",
        "result_string"
      ],
      "execution_count": 1,
      "outputs": [
        {
          "output_type": "execute_result",
          "data": {
            "application/vnd.google.colaboratory.intrinsic+json": {
              "type": "string"
            },
            "text/plain": [
              "'TrueFalseFile not found'"
            ]
          },
          "metadata": {
            "tags": []
          },
          "execution_count": 1
        }
      ]
    },
    {
      "cell_type": "markdown",
      "metadata": {
        "id": "MkETRUnQZeOG",
        "colab_type": "text"
      },
      "source": [
        "#without using for loop using join function as per PEP 8 rule\n",
        "The following code is idiomatic"
      ]
    },
    {
      "cell_type": "code",
      "metadata": {
        "id": "MUWQaNydZpJI",
        "colab_type": "code",
        "colab": {
          "base_uri": "https://localhost:8080/",
          "height": 35
        },
        "outputId": "82c50255-e411-4135-8ad8-ba31eb7c79bd"
      },
      "source": [
        "result_list = ['True', 'False', 'File not found']\n",
        "result_string = ''.join(result_list)\n",
        "result_string"
      ],
      "execution_count": 2,
      "outputs": [
        {
          "output_type": "execute_result",
          "data": {
            "application/vnd.google.colaboratory.intrinsic+json": {
              "type": "string"
            },
            "text/plain": [
              "'TrueFalseFile not found'"
            ]
          },
          "metadata": {
            "tags": []
          },
          "execution_count": 2
        }
      ]
    },
    {
      "cell_type": "markdown",
      "metadata": {
        "id": "rboCONy2ZwkP",
        "colab_type": "text"
      },
      "source": [
        "#Chain string functions\n",
        "The following code is harmful"
      ]
    },
    {
      "cell_type": "code",
      "metadata": {
        "id": "D9BQnc2dZ0UP",
        "colab_type": "code",
        "colab": {
          "base_uri": "https://localhost:8080/",
          "height": 52
        },
        "outputId": "d748fd57-f49c-4471-968c-bf1f390c433c"
      },
      "source": [
        "book_info = ' The Three Musketeers: Alexandre Dumas'\n",
        "formatted_book_info = book_info.strip()\n",
        "formatted_book_info = formatted_book_info.upper()\n",
        "formatted_book_info = formatted_book_info.replace(':', ' by')\n",
        "formatted_book_info"
      ],
      "execution_count": 3,
      "outputs": [
        {
          "output_type": "execute_result",
          "data": {
            "application/vnd.google.colaboratory.intrinsic+json": {
              "type": "string"
            },
            "text/plain": [
              "'THE THREE MUSKETEERS by ALEXANDRE DUMAS'"
            ]
          },
          "metadata": {
            "tags": []
          },
          "execution_count": 3
        }
      ]
    },
    {
      "cell_type": "markdown",
      "metadata": {
        "id": "-Qu-rCIvZ8nC",
        "colab_type": "text"
      },
      "source": [
        "The following code is idiomatic"
      ]
    },
    {
      "cell_type": "code",
      "metadata": {
        "id": "oG4surl3aBJ-",
        "colab_type": "code",
        "colab": {
          "base_uri": "https://localhost:8080/",
          "height": 52
        },
        "outputId": "d06ca3a1-892b-458a-a0a3-91d8690bb487"
      },
      "source": [
        "book_info = ' The Three Musketeers: Alexandre Dumas'\n",
        "formatted_book_info = book_info.strip().upper().replace(':', ' by')\n",
        "formatted_book_info"
      ],
      "execution_count": 4,
      "outputs": [
        {
          "output_type": "execute_result",
          "data": {
            "application/vnd.google.colaboratory.intrinsic+json": {
              "type": "string"
            },
            "text/plain": [
              "'THE THREE MUSKETEERS by ALEXANDRE DUMAS'"
            ]
          },
          "metadata": {
            "tags": []
          },
          "execution_count": 4
        }
      ]
    },
    {
      "cell_type": "markdown",
      "metadata": {
        "id": "lz-ZcjKIaFwi",
        "colab_type": "text"
      },
      "source": [
        "#Removing Duplicates from a List\n"
      ]
    },
    {
      "cell_type": "code",
      "metadata": {
        "id": "PoeldrTEaKGf",
        "colab_type": "code",
        "colab": {
          "base_uri": "https://localhost:8080/",
          "height": 54
        },
        "outputId": "120cbb2c-befb-46a1-a06a-3720669f4e40"
      },
      "source": [
        "ints_list = [1, 2, 3, 4, 3, 2]\n",
        "temp = []\n",
        "for x in ints_list:\n",
        "    if x not in temp:\n",
        "        temp.append(x)\n",
        "ints_list = temp\n",
        "print(f'Updated List after removing duplicates = {temp}')"
      ],
      "execution_count": 5,
      "outputs": [
        {
          "output_type": "stream",
          "text": [
            "Updated List after removing duplicates = [1, 2, 3, 4]\n"
          ],
          "name": "stdout"
        }
      ]
    },
    {
      "cell_type": "markdown",
      "metadata": {
        "id": "fvCk4MFBaNxL",
        "colab_type": "text"
      },
      "source": [
        "The following code is idiomatic using set()"
      ]
    },
    {
      "cell_type": "code",
      "metadata": {
        "id": "C5UII-mRaQJd",
        "colab_type": "code",
        "colab": {
          "base_uri": "https://localhost:8080/",
          "height": 34
        },
        "outputId": "4a38475f-d898-4a3e-cbab-5b0b87516f01"
      },
      "source": [
        "ints_list = [1, 2, 3, 4, 3, 2]\n",
        "ints_list1 = list(set(ints_list))\n",
        "print(ints_list1)  # [1, 2, 3, 4]"
      ],
      "execution_count": 6,
      "outputs": [
        {
          "output_type": "stream",
          "text": [
            "[1, 2, 3, 4]\n"
          ],
          "name": "stdout"
        }
      ]
    },
    {
      "cell_type": "markdown",
      "metadata": {
        "id": "jvPJ-pDRaWu5",
        "colab_type": "text"
      },
      "source": [
        "#some of the important functions in Python\n"
      ]
    },
    {
      "cell_type": "markdown",
      "metadata": {
        "id": "Coeg9VAUaaiU",
        "colab_type": "text"
      },
      "source": [
        "#zip() in Python"
      ]
    },
    {
      "cell_type": "code",
      "metadata": {
        "id": "KzWXlZMVadnp",
        "colab_type": "code",
        "colab": {
          "base_uri": "https://localhost:8080/",
          "height": 54
        },
        "outputId": "7cf7fc6c-f3b6-42b1-9ca3-36530fc2c8a0"
      },
      "source": [
        "name = [ \"Manjeet\", \"Nikhil\", \"Shambhavi\", \"Astha\" ] \n",
        "roll_no = [ 4, 1, 3, 2 ] \n",
        "marks = [ 40, 50, 60, 70 ] \n",
        "  \n",
        "# using zip() to map values \n",
        "mapped = zip(name, roll_no, marks) \n",
        "  \n",
        "# converting values to print as set \n",
        "mapped = set(mapped) \n",
        "  \n",
        "# printing resultant values  \n",
        "print (\"The zipped result is : \",end=\"\") \n",
        "print (mapped)"
      ],
      "execution_count": 7,
      "outputs": [
        {
          "output_type": "stream",
          "text": [
            "The zipped result is : {('Shambhavi', 3, 60), ('Astha', 2, 70), ('Nikhil', 1, 50), ('Manjeet', 4, 40)}\n"
          ],
          "name": "stdout"
        }
      ]
    },
    {
      "cell_type": "markdown",
      "metadata": {
        "id": "NufV_zL0aje3",
        "colab_type": "text"
      },
      "source": [
        "How to unzip?"
      ]
    },
    {
      "cell_type": "code",
      "metadata": {
        "id": "A0PyU23damBY",
        "colab_type": "code",
        "colab": {
          "base_uri": "https://localhost:8080/",
          "height": 54
        },
        "outputId": "e5005202-c952-478d-c356-a7c8022ac01f"
      },
      "source": [
        "name,rollno,marks=zip(*mapped)\n",
        "print(name,rollno,marks)"
      ],
      "execution_count": 8,
      "outputs": [
        {
          "output_type": "stream",
          "text": [
            "('Shambhavi', 'Astha', 'Nikhil', 'Manjeet') (3, 2, 1, 4) (60, 70, 50, 40)\n"
          ],
          "name": "stdout"
        }
      ]
    },
    {
      "cell_type": "markdown",
      "metadata": {
        "id": "oFf8uraYatOB",
        "colab_type": "text"
      },
      "source": [
        "#Map() function with lamda in Python"
      ]
    },
    {
      "cell_type": "code",
      "metadata": {
        "id": "BNmiLQ3Dav7Q",
        "colab_type": "code",
        "colab": {
          "base_uri": "https://localhost:8080/",
          "height": 34
        },
        "outputId": "a3ca9dcd-56e4-498d-c307-5d3f0b5df9a6"
      },
      "source": [
        "def square(x):\n",
        "    return x*x\n",
        "numbers=[1, 2, 3, 4, 5]\n",
        "sqrList=map(square, numbers)\n",
        "print(list(sqrList))\n",
        "# use lamda function to have direct values\n",
        "sqrList1 = map(lambda x: x*x, [1, 2, 3, 4])"
      ],
      "execution_count": 9,
      "outputs": [
        {
          "output_type": "stream",
          "text": [
            "[1, 4, 9, 16, 25]\n"
          ],
          "name": "stdout"
        }
      ]
    },
    {
      "cell_type": "markdown",
      "metadata": {
        "id": "gZL6DhXEa004",
        "colab_type": "text"
      },
      "source": [
        "#Slicing operations in string"
      ]
    },
    {
      "cell_type": "code",
      "metadata": {
        "id": "4DTQUiwea4dC",
        "colab_type": "code",
        "colab": {
          "base_uri": "https://localhost:8080/",
          "height": 67
        },
        "outputId": "ad903dfb-db74-4002-a6d3-638ad9c34a93"
      },
      "source": [
        "def change(string):\n",
        "      return string[-1] + string[1:-1] + string[0]\n",
        "string=input(\"Enter string:\")\n",
        "print(\"Modified string:\",change(string))\n",
        "print('original string :',string)"
      ],
      "execution_count": null,
      "outputs": [
        {
          "output_type": "stream",
          "text": [
            "Enter string:very happy learning python\n",
            "Modified string: nery happy learning pythov\n",
            "original string : very happy learning python\n"
          ],
          "name": "stdout"
        }
      ]
    },
    {
      "cell_type": "markdown",
      "metadata": {
        "id": "hkfqaQarbMBi",
        "colab_type": "text"
      },
      "source": [
        "#Removing one character from a string"
      ]
    },
    {
      "cell_type": "code",
      "metadata": {
        "id": "c9_n2GTFbPSD",
        "colab_type": "code",
        "colab": {
          "base_uri": "https://localhost:8080/",
          "height": 67
        },
        "outputId": "a89af30e-9e47-4484-8dc0-d19d1c65d3ff"
      },
      "source": [
        "def remove(string, n): \n",
        "   first = string[:n]   \n",
        "   last = string[n+1:]  \n",
        "   return first + last\n",
        "string=input(\"Enter the sring:\")\n",
        "n=int(input(\"Enter the index of the character to remove:\"))\n",
        "print('Modified string:',change(string))"
      ],
      "execution_count": null,
      "outputs": [
        {
          "output_type": "stream",
          "text": [
            "Enter the sring:hello\n",
            "Enter the index of the character to remove:3\n",
            "Modified string: oellh\n"
          ],
          "name": "stdout"
        }
      ]
    },
    {
      "cell_type": "markdown",
      "metadata": {
        "id": "KbQSMQx7cpw-",
        "colab_type": "text"
      },
      "source": [
        "#Sorting in Python using function"
      ]
    },
    {
      "cell_type": "code",
      "metadata": {
        "id": "WZBznDwScsov",
        "colab_type": "code",
        "colab": {
          "base_uri": "https://localhost:8080/",
          "height": 122
        },
        "outputId": "2946af7e-8a89-4213-a639-c197f98d86af"
      },
      "source": [
        "def myFunc(e):\n",
        "  return len(e)\n",
        "#myfunc=lambda x : len(x)\n",
        "cars = ['Ford', 'Mitsubishi', 'BMW', 'VW']\n",
        "cars.sort(key=myFunc)\n",
        "print(cars)\n",
        "cars.sort(key=myFunc,reverse=True)\n",
        "print(cars)\n",
        "def myFunc(e):\n",
        "  return e[1]\n",
        "cars = [(1,'Ford'), (2,'Mitsubishi'), (3,'BMW'), (4,'VW')]\n",
        "cars.sort(key=myFunc)\n",
        "print(cars)\n",
        "cars.sort(key=myFunc,reverse=True)\n",
        "print(cars)\n",
        "cars.sort(key=myFunc,reverse=True)\n",
        "print(cars)"
      ],
      "execution_count": 10,
      "outputs": [
        {
          "output_type": "stream",
          "text": [
            "['VW', 'BMW', 'Ford', 'Mitsubishi']\n",
            "['Mitsubishi', 'Ford', 'BMW', 'VW']\n",
            "[(3, 'BMW'), (1, 'Ford'), (2, 'Mitsubishi'), (4, 'VW')]\n",
            "[(4, 'VW'), (2, 'Mitsubishi'), (1, 'Ford'), (3, 'BMW')]\n",
            "[(4, 'VW'), (2, 'Mitsubishi'), (1, 'Ford'), (3, 'BMW')]\n"
          ],
          "name": "stdout"
        }
      ]
    },
    {
      "cell_type": "markdown",
      "metadata": {
        "id": "qBovkKOzc-X3",
        "colab_type": "text"
      },
      "source": [
        "#itertools groupby"
      ]
    },
    {
      "cell_type": "code",
      "metadata": {
        "id": "Mtti-WSBdON7",
        "colab_type": "code",
        "colab": {
          "base_uri": "https://localhost:8080/",
          "height": 102
        },
        "outputId": "91a9ca35-b35a-4cc4-8d6e-bb75c52347ca"
      },
      "source": [
        "from itertools import groupby\n",
        "things = [(\"animal\", \"bear\"), (\"animal\", \"duck\"), \\\n",
        "           (\"plant\", \"cactus\"), (\"vehicle\", \"speed boat\"),\\\n",
        "          (\"vehicle\", \"school bus\")]\n",
        "for key, group in groupby(things, lambda x: x[0]):\n",
        "    for thing in group:\n",
        "      print (\"A %s is a %s.\"%(thing[1], key))"
      ],
      "execution_count": 11,
      "outputs": [
        {
          "output_type": "stream",
          "text": [
            "A bear is a animal.\n",
            "A duck is a animal.\n",
            "A cactus is a plant.\n",
            "A speed boat is a vehicle.\n",
            "A school bus is a vehicle.\n"
          ],
          "name": "stdout"
        }
      ]
    },
    {
      "cell_type": "markdown",
      "metadata": {
        "id": "-eJHYe_Adio1",
        "colab_type": "text"
      },
      "source": [
        "#Combinations Of string \"SADIK\" OF SIZE 3."
      ]
    },
    {
      "cell_type": "code",
      "metadata": {
        "id": "q5Kplu6mdlki",
        "colab_type": "code",
        "colab": {
          "base_uri": "https://localhost:8080/",
          "height": 54
        },
        "outputId": "ba3753c3-3f47-4cf7-db95-8e05f288a147"
      },
      "source": [
        "from itertools import combinations \n",
        "  \n",
        "letters =\"SADIK\"\n",
        "  \n",
        "# size of combination is set to 3 \n",
        "a = combinations(letters, 3)  \n",
        "y = [' '.join(i) for i in a]  \n",
        "print(y)"
      ],
      "execution_count": 12,
      "outputs": [
        {
          "output_type": "stream",
          "text": [
            "['S A D', 'S A I', 'S A K', 'S D I', 'S D K', 'S I K', 'A D I', 'A D K', 'A I K', 'D I K']\n"
          ],
          "name": "stdout"
        }
      ]
    },
    {
      "cell_type": "markdown",
      "metadata": {
        "id": "TpZfjfb1dsSq",
        "colab_type": "text"
      },
      "source": [
        "#Permutations Of string \"SADIK\" OF SIZE 3."
      ]
    },
    {
      "cell_type": "code",
      "metadata": {
        "id": "U6jmOXxbdtf7",
        "colab_type": "code",
        "colab": {
          "base_uri": "https://localhost:8080/",
          "height": 54
        },
        "outputId": "a4ec7f1f-767f-4572-d93a-97853a371ce0"
      },
      "source": [
        "from itertools import permutations \n",
        "  \n",
        "letters =\"SADIK\"\n",
        "  \n",
        "# size of permutaion is set to 3 \n",
        "a = permutations(letters, 3)  \n",
        "y = [' '.join(i) for i in a]  \n",
        "print(y)"
      ],
      "execution_count": 13,
      "outputs": [
        {
          "output_type": "stream",
          "text": [
            "['S A D', 'S A I', 'S A K', 'S D A', 'S D I', 'S D K', 'S I A', 'S I D', 'S I K', 'S K A', 'S K D', 'S K I', 'A S D', 'A S I', 'A S K', 'A D S', 'A D I', 'A D K', 'A I S', 'A I D', 'A I K', 'A K S', 'A K D', 'A K I', 'D S A', 'D S I', 'D S K', 'D A S', 'D A I', 'D A K', 'D I S', 'D I A', 'D I K', 'D K S', 'D K A', 'D K I', 'I S A', 'I S D', 'I S K', 'I A S', 'I A D', 'I A K', 'I D S', 'I D A', 'I D K', 'I K S', 'I K A', 'I K D', 'K S A', 'K S D', 'K S I', 'K A S', 'K A D', 'K A I', 'K D S', 'K D A', 'K D I', 'K I S', 'K I A', 'K I D']\n"
          ],
          "name": "stdout"
        }
      ]
    },
    {
      "cell_type": "markdown",
      "metadata": {
        "id": "SAymAJ-zdyDp",
        "colab_type": "text"
      },
      "source": [
        "#Accumulate()"
      ]
    },
    {
      "cell_type": "code",
      "metadata": {
        "id": "kCr_DXjmd04W",
        "colab_type": "code",
        "colab": {
          "base_uri": "https://localhost:8080/",
          "height": 102
        },
        "outputId": "090a1af9-2cf3-4de6-93cd-be4858a3e23d"
      },
      "source": [
        "# import the itertool module  \n",
        "# to work with it \n",
        "import itertools \n",
        "  \n",
        "# import operator to work  \n",
        "# with operator \n",
        "import operator \n",
        "  \n",
        "# creating a list GFG \n",
        "GFG = [1, 2, 3, 4, 5] \n",
        "  \n",
        "# using the itertools.accumulate()  \n",
        "result = itertools.accumulate(GFG,  \n",
        "                              operator.mul) \n",
        "  \n",
        "# printing each item from list \n",
        "for each in result: \n",
        "    print(each)"
      ],
      "execution_count": 14,
      "outputs": [
        {
          "output_type": "stream",
          "text": [
            "1\n",
            "2\n",
            "6\n",
            "24\n",
            "120\n"
          ],
          "name": "stdout"
        }
      ]
    },
    {
      "cell_type": "markdown",
      "metadata": {
        "id": "HLdMVtwSd8gm",
        "colab_type": "text"
      },
      "source": [
        "#Swaping by ^(Exclusive or)"
      ]
    },
    {
      "cell_type": "code",
      "metadata": {
        "id": "vPkcwbaheAmT",
        "colab_type": "code",
        "colab": {
          "base_uri": "https://localhost:8080/",
          "height": 51
        },
        "outputId": "b7faa2df-398e-40d2-a884-3fb2241c3675"
      },
      "source": [
        "a=5\n",
        "b=4\n",
        "a=a^b\n",
        "b=a^b\n",
        "a=a^b\n",
        "print(a)\n",
        "print(b)"
      ],
      "execution_count": 15,
      "outputs": [
        {
          "output_type": "stream",
          "text": [
            "4\n",
            "5\n"
          ],
          "name": "stdout"
        }
      ]
    }
  ]
}