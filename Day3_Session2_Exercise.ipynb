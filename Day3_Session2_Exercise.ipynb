{
  "nbformat": 4,
  "nbformat_minor": 0,
  "metadata": {
    "colab": {
      "name": "Day3_Session2_Exercise.ipynb",
      "provenance": [],
      "collapsed_sections": [],
      "include_colab_link": true
    },
    "kernelspec": {
      "name": "python3",
      "display_name": "Python 3"
    }
  },
  "cells": [
    {
      "cell_type": "markdown",
      "metadata": {
        "id": "view-in-github",
        "colab_type": "text"
      },
      "source": [
        "<a href=\"https://colab.research.google.com/github/puni2426/4-days-Workshop-on-Python/blob/master/Day3_Session2_Exercise.ipynb\" target=\"_parent\"><img src=\"https://colab.research.google.com/assets/colab-badge.svg\" alt=\"Open In Colab\"/></a>"
      ]
    },
    {
      "cell_type": "markdown",
      "metadata": {
        "id": "N9wpEOygGf9l",
        "colab_type": "text"
      },
      "source": [
        "1.Write a Python Program to Print Multiplication Table of a  number which got through keyboard"
      ]
    },
    {
      "cell_type": "code",
      "metadata": {
        "id": "tsuHVsygGk-t",
        "colab_type": "code",
        "colab": {
          "base_uri": "https://localhost:8080/",
          "height": 51
        },
        "outputId": "5f82be5f-5901-4da6-c086-b00d2f612e19"
      },
      "source": [
        "a=[]\n",
        "n=int(input(\"enter the value of n\"))\n",
        "for i in range(1,11):\n",
        "  b=i*n\n",
        "  a.append(str(b))\n",
        "print(','.join(a))"
      ],
      "execution_count": 3,
      "outputs": [
        {
          "output_type": "stream",
          "text": [
            "enter the value of n11\n",
            "11,22,33,44,55,66,77,88,99,110\n"
          ],
          "name": "stdout"
        }
      ]
    },
    {
      "cell_type": "markdown",
      "metadata": {
        "id": "BH6_duOoHrvf",
        "colab_type": "text"
      },
      "source": [
        "2.Write a  Python Program to find the Armstrong Numbers between 1 and 2000"
      ]
    },
    {
      "cell_type": "code",
      "metadata": {
        "id": "1GN_YE4FHwKV",
        "colab_type": "code",
        "colab": {
          "base_uri": "https://localhost:8080/",
          "height": 54
        },
        "outputId": "403f2526-245c-47d3-f03f-46dfeb358628"
      },
      "source": [
        "a=[]\n",
        "for i in range(1,2001):\n",
        " temp=i\n",
        " d=0\n",
        " l=0\n",
        " s=0\n",
        " while(temp>0):\n",
        "  temp=temp//10\n",
        "  d=d+1\n",
        " temp=i\n",
        " while(temp>0):\n",
        "  l=temp%10\n",
        "  s=s+l**d\n",
        "  temp=temp//10\n",
        " if(s==i):\n",
        "  a.append(str(i))\n",
        "print(a)"
      ],
      "execution_count": 1,
      "outputs": [
        {
          "output_type": "stream",
          "text": [
            "['1', '2', '3', '4', '5', '6', '7', '8', '9', '153', '370', '371', '407', '1634']\n"
          ],
          "name": "stdout"
        }
      ]
    },
    {
      "cell_type": "markdown",
      "metadata": {
        "id": "kqGLbi6HLcNd",
        "colab_type": "text"
      },
      "source": [
        "3.Write a python program to get the list of tuples (rollno, name) for n students by getting rollno and name through keyboard. Sort and print  them as rollno wise and name wise both ascending and descending as well as alphabetical and dealphabetical orders"
      ]
    },
    {
      "cell_type": "code",
      "metadata": {
        "id": "8n5m7hdWLieg",
        "colab_type": "code",
        "colab": {
          "base_uri": "https://localhost:8080/",
          "height": 309
        },
        "outputId": "d2060b18-eca1-44de-9e18-c8451ce1d1e5"
      },
      "source": [
        "a=[]\n",
        "def inp():\n",
        "  rolno=input(\"enter the rolno\")\n",
        "  name=input(\"enter the name\")\n",
        "  return(rolno,name)\n",
        "n=int(input(\"Enter the value of n\"))\n",
        "for i in range(1,n+1):\n",
        "  a.append(inp())\n",
        "print(a)\n",
        "a.sort(key=lambda i:i[0])\n",
        "print(f'According to Rollno:Ascending order:{a}')\n",
        "print(f'According to Rollno:Descending order:{a[::-1]}')\n",
        "a.sort(key=lambda i:i[1])\n",
        "print(f'According to Name:Alphabeticallyorder:{a}')\n",
        "print(f'According to Name:Dealphabetically order:{a[::-1]}')"
      ],
      "execution_count": 2,
      "outputs": [
        {
          "output_type": "stream",
          "text": [
            "Enter the value of n5\n",
            "enter the rolno1\n",
            "enter the namePunith\n",
            "enter the rolno2\n",
            "enter the nameSurya\n",
            "enter the rolno3\n",
            "enter the namePrakash\n",
            "enter the rolno4\n",
            "enter the nameShiva\n",
            "enter the rolno5\n",
            "enter the nameRaja\n",
            "[('1', 'Punith'), ('2', 'Surya'), ('3', 'Prakash'), ('4', 'Shiva'), ('5', 'Raja')]\n",
            "According to Rollno:Ascending order:[('1', 'Punith'), ('2', 'Surya'), ('3', 'Prakash'), ('4', 'Shiva'), ('5', 'Raja')]\n",
            "According to Rollno:Descending order:[('5', 'Raja'), ('4', 'Shiva'), ('3', 'Prakash'), ('2', 'Surya'), ('1', 'Punith')]\n",
            "According to Name:Alphabeticallyorder:[('3', 'Prakash'), ('1', 'Punith'), ('5', 'Raja'), ('4', 'Shiva'), ('2', 'Surya')]\n",
            "According to Name:Dealphabetically order:[('2', 'Surya'), ('4', 'Shiva'), ('5', 'Raja'), ('1', 'Punith'), ('3', 'Prakash')]\n"
          ],
          "name": "stdout"
        }
      ]
    },
    {
      "cell_type": "markdown",
      "metadata": {
        "id": "x6GxvZcBPBIm",
        "colab_type": "text"
      },
      "source": [
        "4.Python Program to Detect if Two Strings are Anagrams ( They are  the two strings which have same length and same words which may be different in their order)"
      ]
    },
    {
      "cell_type": "code",
      "metadata": {
        "id": "JuD-_DcyPGKu",
        "colab_type": "code",
        "colab": {
          "base_uri": "https://localhost:8080/",
          "height": 68
        },
        "outputId": "b8b97023-53ef-445f-c626-aec2a8123838"
      },
      "source": [
        "s=input(\"Enter the first string\")\n",
        "s2=input(\"Enter the second string\")\n",
        "if(sorted(s)==sorted(s2)):\n",
        "  print(\"Strings are anagram\")\n",
        "else:\n",
        "  print(\"strings arent anagram\")"
      ],
      "execution_count": null,
      "outputs": [
        {
          "output_type": "stream",
          "text": [
            "Enter the first stringanagram\n",
            "Enter the second stringnagaram\n",
            "Strings are anagram\n"
          ],
          "name": "stdout"
        }
      ]
    }
  ]
}