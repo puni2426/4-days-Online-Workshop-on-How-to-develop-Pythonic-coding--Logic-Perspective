{
  "nbformat": 4,
  "nbformat_minor": 0,
  "metadata": {
    "colab": {
      "name": "Day 1 Session 2 Exercise .ipynb",
      "provenance": [],
      "authorship_tag": "ABX9TyPu6qLjFbUqoHAuVV4Y2Msl",
      "include_colab_link": true
    },
    "kernelspec": {
      "name": "python3",
      "display_name": "Python 3"
    }
  },
  "cells": [
    {
      "cell_type": "markdown",
      "metadata": {
        "id": "view-in-github",
        "colab_type": "text"
      },
      "source": [
        "<a href=\"https://colab.research.google.com/github/puni2426/4-days-Workshop-on-Python/blob/master/Day_1_Session_2_Exercise_.ipynb\" target=\"_parent\"><img src=\"https://colab.research.google.com/assets/colab-badge.svg\" alt=\"Open In Colab\"/></a>"
      ]
    },
    {
      "cell_type": "markdown",
      "metadata": {
        "id": "ZTsyRQHZmgaV",
        "colab_type": "text"
      },
      "source": [
        " 1 Write a program to print the triangle \n",
        "i/p  4\n",
        " \n",
        "1\n",
        "2    3\n",
        "3    4   5\n",
        "4    5   6   7"
      ]
    },
    {
      "cell_type": "code",
      "metadata": {
        "id": "vAkUvdF4miBw",
        "colab_type": "code",
        "colab": {
          "base_uri": "https://localhost:8080/",
          "height": 170
        },
        "outputId": "16c20280-03ab-4bf7-e085-b99d0aadd6bb"
      },
      "source": [
        " \n",
        "n = int(input(\"Enter The N Value:\"))\n",
        "c=1\n",
        "for i in range(n):\n",
        "  for j in range(i+1):\n",
        "    print(c, end=' ')\n",
        "    c+=1\n",
        "  print(\"\\n\")\n",
        "  c=c-i"
      ],
      "execution_count": null,
      "outputs": [
        {
          "output_type": "stream",
          "text": [
            "Enter The N Value:4\n",
            "1 \n",
            "\n",
            "2 3 \n",
            "\n",
            "3 4 5 \n",
            "\n",
            "4 5 6 7 \n",
            "\n"
          ],
          "name": "stdout"
        }
      ]
    },
    {
      "cell_type": "markdown",
      "metadata": {
        "id": "2RVtcAwBmzUe",
        "colab_type": "text"
      },
      "source": [
        " \n",
        "2 Enter number 4\n",
        " \n",
        "*\n",
        "* *\n",
        "* * *\n",
        "* * * *"
      ]
    },
    {
      "cell_type": "code",
      "metadata": {
        "id": "h7GKlGgFm1IO",
        "colab_type": "code",
        "colab": {
          "base_uri": "https://localhost:8080/",
          "height": 102
        },
        "outputId": "3a8876e3-4811-49c6-f85a-14f193d92f52"
      },
      "source": [
        " \n",
        "n = int(input(\"Enter The Number:\"))\n",
        "for i in range(n):\n",
        "  print(\"*\"*(i+1))"
      ],
      "execution_count": null,
      "outputs": [
        {
          "output_type": "stream",
          "text": [
            "Enter The Number:4\n",
            "*\n",
            "**\n",
            "***\n",
            "****\n"
          ],
          "name": "stdout"
        }
      ]
    },
    {
      "cell_type": "markdown",
      "metadata": {
        "id": "vxRux-VJnA-_",
        "colab_type": "text"
      },
      "source": [
        " Enter number 5\n",
        " \n",
        "5\n",
        "4 5\n",
        "3 4 5\n",
        "2 3 4 5\n",
        "1 2 3 4 5"
      ]
    },
    {
      "cell_type": "code",
      "metadata": {
        "id": "Woayx2-qnL9e",
        "colab_type": "code",
        "colab": {
          "base_uri": "https://localhost:8080/",
          "height": 204
        },
        "outputId": "0780591a-cd3f-4256-ffc2-88ab459942b4"
      },
      "source": [
        " \n",
        "n = int(input(\"Enter The Number:\"))\n",
        "c=n\n",
        "for i in range(n):\n",
        "  c=c-i\n",
        "  for j in range(i+1):\n",
        "    print(c, end=\" \")\n",
        "    c+=1\n",
        "  c-=1\n",
        "  print(\"\\n\")"
      ],
      "execution_count": null,
      "outputs": [
        {
          "output_type": "stream",
          "text": [
            "Enter The Number:5\n",
            "5 \n",
            "\n",
            "4 5 \n",
            "\n",
            "3 4 5 \n",
            "\n",
            "2 3 4 5 \n",
            "\n",
            "1 2 3 4 5 \n",
            "\n"
          ],
          "name": "stdout"
        }
      ]
    },
    {
      "cell_type": "markdown",
      "metadata": {
        "id": "hWcemtXFnVw3",
        "colab_type": "text"
      },
      "source": [
        "   Enter number 5\n",
        " \n",
        "5 4 3 2 1\n",
        "4 3 2 1\n",
        "3 2 1\n",
        "2 1\n",
        "1"
      ]
    },
    {
      "cell_type": "code",
      "metadata": {
        "id": "fUStJ9o0neoD",
        "colab_type": "code",
        "colab": {
          "base_uri": "https://localhost:8080/",
          "height": 204
        },
        "outputId": "7ef9af04-1ca0-4099-a884-06a81c9f6ce0"
      },
      "source": [
        " \n",
        "n = int(input(\"Enter The Number:\"))\n",
        "for i in range(n):\n",
        "  c=n-i\n",
        "  for j in range(n-i):\n",
        "    print(c, end=' ')\n",
        "    c-=1\n",
        "  print(\"\\n\")"
      ],
      "execution_count": null,
      "outputs": [
        {
          "output_type": "stream",
          "text": [
            "Enter The Number:5\n",
            "5 4 3 2 1 \n",
            "\n",
            "4 3 2 1 \n",
            "\n",
            "3 2 1 \n",
            "\n",
            "2 1 \n",
            "\n",
            "1 \n",
            "\n"
          ],
          "name": "stdout"
        }
      ]
    },
    {
      "cell_type": "markdown",
      "metadata": {
        "id": "gqSvD1yunq5m",
        "colab_type": "text"
      },
      "source": [
        "  Enter number 4\n",
        " \n",
        "1 2 3 4\n",
        "2 3 4\n",
        "3 4\n",
        "4\n",
        "3 4\n",
        "2 3 4\n",
        "1 2 3 4"
      ]
    },
    {
      "cell_type": "code",
      "metadata": {
        "id": "5k-t9Z9lnz2P",
        "colab_type": "code",
        "colab": {
          "base_uri": "https://localhost:8080/",
          "height": 272
        },
        "outputId": "7b37a27f-dd7f-4c4a-fb3e-1d836fc66b6f"
      },
      "source": [
        " \n",
        "n = int(input(\"Enter The Number:\"))\n",
        "for i in range(n):\n",
        "  c=i+1\n",
        "  for j in range(n-i):\n",
        "    print(c, end=' ')\n",
        "    c+=1\n",
        "  print(\"\\n\")\n",
        "for i in range(n-1):\n",
        "  c=n-i-1\n",
        "  for j in range(i+2):\n",
        "    print(c, end=' ')\n",
        "    c+=1\n",
        "  print(\"\\n\")"
      ],
      "execution_count": null,
      "outputs": [
        {
          "output_type": "stream",
          "text": [
            "Enter The Number:4\n",
            "1 2 3 4 \n",
            "\n",
            "2 3 4 \n",
            "\n",
            "3 4 \n",
            "\n",
            "4 \n",
            "\n",
            "3 4 \n",
            "\n",
            "2 3 4 \n",
            "\n",
            "1 2 3 4 \n",
            "\n"
          ],
          "name": "stdout"
        }
      ]
    },
    {
      "cell_type": "markdown",
      "metadata": {
        "id": "LTim26RBoI4x",
        "colab_type": "text"
      },
      "source": [
        " \n",
        "6 Find the length of a string without using len functions"
      ]
    },
    {
      "cell_type": "code",
      "metadata": {
        "id": "nwaHCFa_oMq3",
        "colab_type": "code",
        "colab": {
          "base_uri": "https://localhost:8080/",
          "height": 51
        },
        "outputId": "6a1d0031-0e06-4ba1-f88f-85174cc1a839"
      },
      "source": [
        " \n",
        "c = 0\n",
        "for i in input(\"Enter The String: \"):\n",
        "    c += 1\n",
        "print(f'The Length Of String Is: {c}')"
      ],
      "execution_count": 1,
      "outputs": [
        {
          "output_type": "stream",
          "text": [
            "Enter The String: Punith\n",
            "The Length Of String Is: 6\n"
          ],
          "name": "stdout"
        }
      ]
    },
    {
      "cell_type": "markdown",
      "metadata": {
        "id": "9IGpfjnNoWur",
        "colab_type": "text"
      },
      "source": [
        "Find the no of words and characters in a string"
      ]
    },
    {
      "cell_type": "code",
      "metadata": {
        "id": "VND66CFwojje",
        "colab_type": "code",
        "colab": {
          "base_uri": "https://localhost:8080/",
          "height": 88
        },
        "outputId": "0e5c054b-291c-45af-ef86-3ccf3f68ab24"
      },
      "source": [
        " \n",
        "s = input(\"Enter The String: \")\n",
        "c = 0\n",
        "for i in s:\n",
        "    if i == \" \":\n",
        "        c += 1\n",
        "print(f'The Number Of Words In A String Is: {c + 1} \\nThe Number Of Characters In A String Is: {len(s)}')"
      ],
      "execution_count": 3,
      "outputs": [
        {
          "output_type": "stream",
          "text": [
            "Enter The String: Punith\n",
            "The Number Of Words In A String Is: 1 \n",
            "The Number Of Characters In A String Is: 6\n"
          ],
          "name": "stdout"
        }
      ]
    },
    {
      "cell_type": "markdown",
      "metadata": {
        "id": "-zJQGA0eo1n8",
        "colab_type": "text"
      },
      "source": [
        "  Find the no of occurrences of a word in a string"
      ]
    },
    {
      "cell_type": "code",
      "metadata": {
        "id": "QkrnZV8oo3lN",
        "colab_type": "code",
        "colab": {
          "base_uri": "https://localhost:8080/",
          "height": 68
        },
        "outputId": "4dd84148-3332-4d0e-91f3-51b977c82805"
      },
      "source": [
        " \n",
        "def countOccurences(s, w):   \n",
        "       \n",
        "    return c        \n",
        "s = input(\"Enter The Main String: \").lower()\n",
        "w = input(\"Enter Comparision String: \")\n",
        "a = s.split(\" \") \n",
        "c = 0\n",
        "for i in range(0, len(a)): \n",
        "  if (w == a[i]):\n",
        "    c = c + 1    \n",
        "print(c)"
      ],
      "execution_count": 8,
      "outputs": [
        {
          "output_type": "stream",
          "text": [
            "Enter The Main String: Punith\n",
            "Enter Comparision String: Raja\n",
            "0\n"
          ],
          "name": "stdout"
        }
      ]
    }
  ]
}